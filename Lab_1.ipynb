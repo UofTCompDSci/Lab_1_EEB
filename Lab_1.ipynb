{
  "cells": [
    {
      "cell_type": "markdown",
      "metadata": {
        "id": "i1sxZAQFNZVG"
      },
      "source": [
        "\n",
        "# Lab 1 — Intro to data science tools\n",
        "\n",
        "### Lab Introduction and Learning Objectives:\n",
        "\n",
        "In this lab, you will be:\n",
        "- Exploring the features and interface of a Jupyter Notebook in JupyterHub\n",
        "- Discovering the features and differences between `Code` and `markdown` blocks\n",
        "- Viewing, and opening your local files in your local directories\n",
        "- Creating and formatting your own `code` and `markdown` blocks\n",
        "\n",
        "By the end of the lab, you will be able to:\n",
        "- Effectively navigate the interface of Jupyter notebooks\n",
        "- Employ different notebook features to create, edit, format, rearrange, and manipulate `code` and `markdown` blocks\n",
        "- Understand the fundamental differences of `code` and `Markdown` blocks and their intended uses in a notebook\n",
        "- Navigate your local directories, and attach/embed files and links in your notebook\n",
        "- Introduced to coding in Python using `code` blocks\n",
        "- Submit your work (and future work) to MarkUs\n",
        "\n",
        "\n",
        "## What is JupyterHub Notebook?\n",
        "\n",
        "The tool you're currently using is called JupyterHub Notebook, and we will be using this to complete labs and homeworks throughout the course. JupyterHub Notebook is principally used to write and edit code to examine and work with our data. You can also embed text and plots in notebooks, which makes it a great medium for combining code and analysis. JupyterHub is the server on which we store JupyterHub Notebooks.\n",
        "\n",
        "Much like having to learn how to use a lab for a chemistry course, you will need to learn how to use data science equipment, and JupyterHub and Jupyter notebooks are important data science lab tools. This first lab will take you on a tour of a Jupyter notebook. Without further ado, let's explore our notebook.\n",
        "\n",
        "## Control Panel\n",
        "\n",
        "Let's first get acquainted with a Jupyter notebook's control panel, as pictured below. We will explore only the toolbar buttons, but feel free to explore the drop down menus (ex. 'File', 'Edit', ...)\n",
        "\n",
        "![test](attachment:lab1-images/base.png)\n",
        "__Fig 1.1 - The control panel of the Jupyter Notebook__\n",
        "\n",
        "![image-2.png](attachment:image-2.png)\n",
        "__Fig 1.2 - The Save button__\n",
        "\n",
        "The left-most button is probably something you are already familiar with - the \"Save\" button. This is pretty self-explanatory, clicking on this will save all changes since your last save.\n",
        "\n",
        "![image-3.png](attachment:image-3.png)\n",
        "__Fig 1.3 - Creating New Cells__\n",
        "The \"plus\" button creates a new cell below the currently selected cell. By default, JupyterHub will create a code block. We'll revisit types of code blocks soon.\n",
        "\n",
        "![image-4.png](attachment:image-4.png)\n",
        "__Fig 1.4 - Cut, Copy, and Paste Cells__\n",
        "The next three buttons are the cut, copy, and paste buttons, specifically for cells (i.e. it will perform the operation for the entire cell, but you can always highlight code/text and use your normal copy/paste/cut keyboard shortcuts)\n",
        "\n",
        "![image-6.png](attachment:image-6.png)\n",
        "__Fig 1.5 - Rearrange Cells__\n",
        "The __Up__ and __Down__ buttons move (or swap) the position with the cell directly above or below it, respectively.\n",
        "\n",
        "\n",
        "![image-5.png](attachment:image-5.png)\n",
        "__Fig 1.6 - Run, Stop, Restart, and Run All Cells__\n",
        "The __Play__ button is the run button, and will execute code in a code block. Sometimes, code takes a while to run, which might not be intended behaviour. In this case, we can use the __Stop__ button to terminate code execution. The __Fast Forward__ button will run all code blocks in your notebook. We won't have to worry about the __Refresh__ button for now. \n",
        "\n",
        "![image-7.png](attachment:image-7.png)\n",
        "__Fig 1.7 - Specify Block Type__\n",
        "Perhaps one of the more important functions, this dropdown menu lets you set the type of block you want (Markdown for text, Code for Python code).\n",
        "\n",
        "\n",
        "## Markdown vs. Code Blocks\n",
        "\n",
        "Jupyter notebooks allow you to edit code and text in one file, structured in 'blocks'. Within a block, you can either run and edit code or rich text, but not both. Let's first explore Markdown blocks. \n",
        "\n",
        "Double-click on this sentence. It changes the cell to a text editor. To go back to the first view, click the `Run` button above, as seen in the diagram below.\n",
        "\n",
        "Notice that the drop-down button says `Markdown`. Markdown is the format this cell is written in. You'll learn how to use Markdown over the coming weeks.\n",
        "\n",
        "The program your web browser is running is talking to the [JupyterHub@UofT](https://jupyter.utoronto.ca) website. That's where your files, including this JupyterHub notebook, are stored. You are using your very own virtual computer running there, and only you have access to your files.\n",
        "\n",
        "\n",
        "### Viewing your files and folders\n",
        "\n",
        "\n",
        "You can access your notebooks locally if you have some form of JupyterHub installed. You need to run another tool to see your file system. When you access your local files via JupyterHub, your interface will look something like this:\n",
        "\n",
        "![image-8.png](attachment:image-8.png)\n",
        "__Fig 1.8 - Your local files as seen via JupyterHub (Note: these are my personal files; yours' will probably look different!)__\n",
        "\n",
        "You're about to nagivate away from this webpage. **Click the back button in your browser to come back to this page to continue the lab.**\n",
        "\n",
        "Click the `jupyter` icon at the top left of this window to see a list of the files and folders in your home directory in your file system. Click the back button to return to this lab handout.\n",
        "\n",
        "ProTip: you can open that page in a new browser tab by either right-clicking on the `jupyter` icon or by holding down Ctrl (for Windows) or Command (for MacOS).\n",
        "\n"
      ]
    },
    {
      "cell_type": "markdown",
      "metadata": {
        "id": "7Fy-jlP1NZVI"
      },
      "source": [
        "## Making your own Markdown and Code cells\n",
        "\n",
        "You can create your own cells. Click on this cell, then click the `+` button in the button bar, as shown below.\n",
        "\n",
        "![image.png](attachment:image.png)\n",
        "\n",
        "To change its type, click it and then click the drop-down menu. Make it a `Markdown` cell, type anything you like in it, then click `Run`.\n",
        "\n",
        "![image-2.png](attachment:image-2.png)\n",
        "\n",
        "There are some important formatting tricks for Markdown blocks that you should know about. \n",
        "\n",
        "For example, we use hashtags (#) to create titles and headings. Particularly, the *fewer* the hashtags, the larger the text. So we use '#' to create our titles, then '##' or '###' or '####', etc. to make our headings and sub-headings. Double click to open the Markdown editor to see how these are specified\n",
        "\n",
        "# Title\n",
        "\n",
        "## Sub-heading\n",
        "\n",
        "### sub-sub headings\n",
        "\n",
        "#### sub-sub-sub heading (do we really need more than 3?) \n",
        "\n",
        "Markdown supports some rich text features, such as bolding, italics, and lists:\n",
        "\n",
        "__BOLD__ text\n",
        "\n",
        "_italics, perhaps?_\n",
        "\n",
        "    * Let's\n",
        "    * make\n",
        "    * a\n",
        "    * list\n",
        "    \n",
        "Double click on the editor to see how these are specified. Bold text is 'wrapped' by two opening and two closing underscores. Italics is wrapped by only one underscore. Lists are denoted with the * character, which resembles a bullet point. \n",
        "\n",
        "Finally, let's find out how we can embed images we have stored on our computer. In this case, we will need to know the file path (where in our computer our file is located) of the image _relative_ to the file path of our notebook. In this case, let's embed a picture of a cute cat.\n",
        "\n",
        "To embed an image, we need to specify a title for the image, followed by the file path (computer location) of the image. We start by adding an exclamation mark, followed by double brackets which wrap an image title of our choosing. Then, in brackets, we specify the location of the image (relative to our notebook). Altogether, it looks like this:\n",
        "\n",
        "\\!\\[title\\]\\(\"image.png\")\n",
        "\n",
        "\\[WIP\\]\n"
      ]
    },
    {
      "cell_type": "markdown",
      "metadata": {
        "id": "HHADg4X5NZVO"
      },
      "source": [
        "\n",
        "### Select and move multiple cells\n",
        "\n",
        "You can swap the order of a cell by clicking on it and then clicking the up and down arrows in the button bar.\n",
        "\n",
        "You can select a sequence of cells by clicking the first cell you want, then holding down your shift key and clicking the last cell in the sequence. The up and down arrows move all of them at once.\n",
        "\n",
        "\n",
        "### Explore the menus\n",
        "\n",
        "Click on the `File` menu and skim the options.\n",
        "\n",
        "Do the same for the rest of the menus. You'll use them a lot during the course."
      ]
    },
    {
      "cell_type": "markdown",
      "source": [
        "## Lab 1 Tasks\n",
        "\n",
        "In each weekly lab, you will acquaint yourselves with the basic tools, workflows, and procedures pertaining to the week's lecture content. In each lab, you will be asked to practice and submit a few tasks to be submitted by the end of tutorial. After lab, you will have a few days to complete a weekly homework in which you build on learning done in lecture and lab, and will involve a mix of coding and written response (interpretations). \n",
        "\n",
        "This lab has **two tasks**: you will create and edit a markdown cell, and then evaluate a basic arithmetic expression in Python.\n",
        "\n",
        "\n",
        "\n",
        "\n",
        "\n",
        "\n",
        "\n"
      ],
      "metadata": {
        "id": "5THm9QuCEUil"
      }
    },
    {
      "cell_type": "markdown",
      "source": [
        "**Task a)** Create a `markdown` (text) cell below this cell. In your cell, add a heading titled \"Lab 1a)\" (any heading level is fine). Write two lines about something interesting you learned in lecture this week. Add a favourite image, meme or GIF. Finally, add a link to the course syllabus on Quercus.\n"
      ],
      "metadata": {
        "id": "uT18u3aNHhLy"
      }
    },
    {
      "cell_type": "markdown",
      "source": [
        "\n",
        "**Task b)** Now, create a `Code` cell below this cell. Code the following expression in Python: \n",
        "\n",
        "*\\\"The sum of the current year and number of days in this month\\\"*"
      ],
      "metadata": {
        "id": "acRh-ogOHoOC"
      }
    },
    {
      "cell_type": "code",
      "source": [
        "# Answer b) \n",
        "DAYS_IN_JANUARY = 31\n",
        "CURRENT_YEAR = 2022\n",
        "\n",
        "# assert answer == DAYS_IN_JANUARY + CURRENT_YEAR \n",
        "# assert 31+2022 \n",
        "# does the answer need to be stored as a variable?\n",
        "# expected answer: 2053"
      ],
      "metadata": {
        "id": "3hdxFFBCHtmB"
      },
      "execution_count": null,
      "outputs": []
    },
    {
      "cell_type": "markdown",
      "metadata": {
        "id": "4HtLm4-uNZVO"
      },
      "source": [
        "## Saving your work: your JupyterHub file system\n",
        "\n",
        "The file you are interacting with through your browser is saved on your JupyterHub virtual computer.\n",
        "\n",
        "Make sure you save frequently by clicking the floppy disk icon in the button bar. Please do so now."
      ]
    },
    {
      "cell_type": "markdown",
      "source": [
        "## Submitting to MarkUs\n",
        "\n",
        "Each week, you will be asked to submit your lab answers by the end of lab. \n",
        "\n",
        "\\<Paul and Nathan please add instructions here\\> "
      ],
      "metadata": {
        "id": "HnDBGpOnDa01"
      }
    }
  ],
  "metadata": {
    "celltoolbar": "Slideshow",
    "colab": {
      "collapsed_sections": [],
      "name": "Lab 1.ipynb",
      "provenance": []
    },
    "kernelspec": {
      "display_name": "Python 3",
      "language": "python",
      "name": "python3"
    },
    "language_info": {
      "codemirror_mode": {
        "name": "ipython",
        "version": 3
      },
      "file_extension": ".py",
      "mimetype": "text/x-python",
      "name": "python",
      "nbconvert_exporter": "python",
      "pygments_lexer": "ipython3",
      "version": "3.8.8"
    }
  },
  "nbformat": 4,
  "nbformat_minor": 0
}